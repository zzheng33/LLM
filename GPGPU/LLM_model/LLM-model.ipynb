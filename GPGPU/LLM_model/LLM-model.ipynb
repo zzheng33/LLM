{
 "cells": [
  {
   "cell_type": "code",
   "execution_count": 1,
   "id": "863ec998-b23c-48b1-9ff2-e6ffcb94a411",
   "metadata": {},
   "outputs": [
    {
     "name": "stderr",
     "output_type": "stream",
     "text": [
      "/usr/local/lib/python3.10/dist-packages/tqdm/auto.py:21: TqdmWarning: IProgress not found. Please update jupyter and ipywidgets. See https://ipywidgets.readthedocs.io/en/stable/user_install.html\n",
      "  from .autonotebook import tqdm as notebook_tqdm\n"
     ]
    }
   ],
   "source": [
    "from transformers import AutoTokenizer, AutoModelForCausalLM,AutoModelForSeq2SeqLM,BitsAndBytesConfig\n",
    "import torch\n",
    "from datasets import load_dataset\n",
    "import time"
   ]
  },
  {
   "cell_type": "code",
   "execution_count": 2,
   "id": "94c55b4d-743b-4c4b-a3f8-cdc5db5848b9",
   "metadata": {},
   "outputs": [
    {
     "name": "stderr",
     "output_type": "stream",
     "text": [
      "2025-06-02 19:01:34.064836: I tensorflow/core/util/port.cc:153] oneDNN custom operations are on. You may see slightly different numerical results due to floating-point round-off errors from different computation orders. To turn them off, set the environment variable `TF_ENABLE_ONEDNN_OPTS=0`.\n",
      "2025-06-02 19:01:34.078318: E external/local_xla/xla/stream_executor/cuda/cuda_fft.cc:467] Unable to register cuFFT factory: Attempting to register factory for plugin cuFFT when one has already been registered\n",
      "WARNING: All log messages before absl::InitializeLog() is called are written to STDERR\n",
      "E0000 00:00:1748890894.094650 3732503 cuda_dnn.cc:8579] Unable to register cuDNN factory: Attempting to register factory for plugin cuDNN when one has already been registered\n",
      "E0000 00:00:1748890894.099653 3732503 cuda_blas.cc:1407] Unable to register cuBLAS factory: Attempting to register factory for plugin cuBLAS when one has already been registered\n",
      "W0000 00:00:1748890894.111907 3732503 computation_placer.cc:177] computation placer already registered. Please check linkage and avoid linking the same target more than once.\n",
      "W0000 00:00:1748890894.111920 3732503 computation_placer.cc:177] computation placer already registered. Please check linkage and avoid linking the same target more than once.\n",
      "W0000 00:00:1748890894.111922 3732503 computation_placer.cc:177] computation placer already registered. Please check linkage and avoid linking the same target more than once.\n",
      "W0000 00:00:1748890894.111923 3732503 computation_placer.cc:177] computation placer already registered. Please check linkage and avoid linking the same target more than once.\n",
      "2025-06-02 19:01:34.116180: I tensorflow/core/platform/cpu_feature_guard.cc:210] This TensorFlow binary is optimized to use available CPU instructions in performance-critical operations.\n",
      "To enable the following instructions: AVX2 AVX512F AVX512_VNNI FMA, in other operations, rebuild TensorFlow with the appropriate compiler flags.\n",
      "Loading checkpoint shards: 100%|███████████████████████████████████████████████████████████████████████████████████████████████████████████████████████████████████████████| 2/2 [00:02<00:00,  1.20s/it]\n"
     ]
    }
   ],
   "source": [
    "# model_name = \"EleutherAI/gpt-j-6B\"\n",
    "# model_name = \"tiiuae/falcon-7b\"\n",
    "# model_name = \"mosaicml/mpt-7b\"\n",
    "# model_name = \"meta-llama/Llama-2-7b-hf\"\n",
    "# model_name = \"mistralai/Mistral-7B-v0.1\"\n",
    "# model_name = \"meta-llama/Meta-Llama-3-8B\"\n",
    "# model_name = \"NousResearch/Nous-Hermes-llama-2-7b\"\n",
    "# model_name = \"databricks/dolly-v2-12b\"  # right on the memory edge\n",
    "# model_name = \"bigscience/bloom-7b1\"\n",
    "# model_name = \"facebook/opt-13b\"\n",
    "model_name = \"facebook/opt-6.7b\"\n",
    "\n",
    "model = AutoModelForCausalLM.from_pretrained(model_name, torch_dtype=torch.float16, \n",
    "                                             device_map=\"auto\")\n",
    "\n",
    "#for Flan-T5\n",
    "# model = AutoModelForCausalLM.from_pretrained(\n",
    "#     model_name,\n",
    "#     device_map=\"auto\",\n",
    "#     quantization_config=BitsAndBytesConfig(load_in_8bit=True)\n",
    "# )\n",
    "\n",
    "tokenizer = AutoTokenizer.from_pretrained(model_name)\n",
    "tokenizer.pad_token = tokenizer.eos_token"
   ]
  },
  {
   "cell_type": "code",
   "execution_count": 3,
   "id": "a7318ae4-3e00-48a1-b570-74a78b674d26",
   "metadata": {},
   "outputs": [],
   "source": [
    "prompt = (\n",
    "    \"Explain how black holes form and what happens inside them. \"\n",
    "    \"Be detailed and use analogies a student could understand.\"\n",
    ")\n",
    "prompt = (\n",
    "    \"Explain the history of the Roman Empire in great detail, starting from the founding of Rome through the Republic, \"\n",
    "    \"the rise of Julius Caesar, the reign of Augustus, and the eventual decline of the Empire. \"\n",
    "    \"Include political, military, and cultural developments along the way.\" * 100\n",
    ")\n",
    "\n",
    "dataset = load_dataset(\"databricks/databricks-dolly-15k\", split=\"train\")\n",
    "\n",
    "# Show 8 long prompts (instruction + context if available)\n",
    "batch_size = 16\n",
    "batch_prompts = []\n",
    "for i in range(len(dataset)):\n",
    "    example = dataset[i]\n",
    "    prompt = example[\"instruction\"]\n",
    "    if example.get(\"context\"):\n",
    "        prompt += \"\\n\" + example[\"context\"]\n",
    "    # Filter long prompts\n",
    "    # if len(prompt.split()) > 100:\n",
    "    batch_prompts.append(prompt)\n",
    "    if len(batch_prompts) == batch_size:\n",
    "        break\n"
   ]
  },
  {
   "cell_type": "code",
   "execution_count": 4,
   "id": "6e36ab11-9b06-4e45-8274-331d2e6d5728",
   "metadata": {},
   "outputs": [
    {
     "name": "stdout",
     "output_type": "stream",
     "text": [
      "[Prefill] 0.196 sec\n",
      "[Decode] 8.677 sec\n"
     ]
    }
   ],
   "source": [
    "# Tokenization\n",
    "# inputs = tokenizer(batch_prompts, return_tensors=\"pt\", truncation=True, max_length=2048,padding=True)\n",
    "inputs = tokenizer(prompt, return_tensors=\"pt\", truncation=True, max_length=2048,padding=True)\n",
    "inputs = {k: v.to(model.device) for k, v in inputs.items()}\n",
    "\n",
    "# --------------------------\n",
    "# Prefill (first forward pass)\n",
    "# --------------------------\n",
    "start = time.time()\n",
    "with torch.no_grad():\n",
    "    prefill_outputs = model(**inputs, use_cache=True)\n",
    "prefill_time = time.time() - start\n",
    "print(f\"[Prefill] {prefill_time:.3f} sec\")\n",
    "\n",
    "# --------------------------\n",
    "# Decode (token-by-token)\n",
    "# --------------------------\n",
    "past_key_values = prefill_outputs.past_key_values\n",
    "generated = inputs[\"input_ids\"]\n",
    "max_new_tokens = 512\n",
    "\n",
    "# decode_start = time.time()\n",
    "# for _ in range(max_new_tokens):\n",
    "#     with torch.no_grad():\n",
    "#         outputs = model(input_ids=generated[:, -1:], past_key_values=past_key_values, use_cache=True)\n",
    "#         next_token = outputs.logits[:, -1].argmax(dim=-1, keepdim=True)\n",
    "#         past_key_values = outputs.past_key_values\n",
    "#         generated = torch.cat([generated, next_token], dim=-1)\n",
    "# torch.cuda.synchronize()\n",
    "# decode_time = time.time() - decode_start\n",
    "# print(f\"[Decode] {decode_time:.3f} sec\")"
   ]
  },
  {
   "cell_type": "code",
   "execution_count": null,
   "id": "fe832145-9f55-4294-b717-b8275b871cc3",
   "metadata": {},
   "outputs": [],
   "source": []
  }
 ],
 "metadata": {
  "kernelspec": {
   "display_name": "Python 3 (ipykernel)",
   "language": "python",
   "name": "python3"
  },
  "language_info": {
   "codemirror_mode": {
    "name": "ipython",
    "version": 3
   },
   "file_extension": ".py",
   "mimetype": "text/x-python",
   "name": "python",
   "nbconvert_exporter": "python",
   "pygments_lexer": "ipython3",
   "version": "3.10.12"
  }
 },
 "nbformat": 4,
 "nbformat_minor": 5
}
